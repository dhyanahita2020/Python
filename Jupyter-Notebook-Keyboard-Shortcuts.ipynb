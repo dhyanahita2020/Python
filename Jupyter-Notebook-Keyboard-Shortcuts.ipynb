{
 "cells": [
  {
   "cell_type": "markdown",
   "metadata": {},
   "source": [
    "# Keyboard Shortcuts Practice\n",
    "\n",
    "Taking a few minutes to learn certain Jupyter Notebook keyboard shortcuts has helped me be  more efficient. Below are the keyboard shortcuts I've found most useful.\n",
    "\n",
    "**NOTE** these keyboard shortcuts are for Jupyter version 4.1.0 and Mac OSX. For most shortcuts below, you can replace `cmd` for `ctrl` for Windows or Linux. Or, you can use the `H` keyboard shortcut in Windows or Linux to confirm the appropriate keyboard shortcuts for those operating systems."
   ]
  },
  {
   "cell_type": "markdown",
   "metadata": {},
   "source": [
    "## Command vs. Edit Modes\n",
    "\n",
    "But first...something key to be aware of: Jupyter Notebooks have two different keyboard input modes:\n",
    "\n",
    "1. **Command mode** - To enter the COMMAND mode press ESC or click anywhere outside the cell. You will see grey border around the cell with blue left margin. When you are in Command mode, you can edit your notebook but you can't type in the cells.\n",
    "\n",
    "\n",
    "2. **Edit mode** - To enter the EDIT mode, press ENTER on your keyboard or click in a cell. Edit mode can be identified by green border around the cell with green left margin. When you are in the edit mode, you can type in the cells.\n",
    "\n",
    "Experiment with switching between command and edit modes in this cell. Hint: If you're in command mode, type `enter` to enter edit mode. If you're in edit mode, type `esc` to enter command mode."
   ]
  },
  {
   "cell_type": "code",
   "execution_count": null,
   "metadata": {},
   "outputs": [],
   "source": []
  },
  {
   "cell_type": "markdown",
   "metadata": {},
   "source": [
    "### Command Mode\n",
    "- Shift + Enter run cell, select below\n",
    "- Ctrl + Enter run cell\n",
    "- option + enter run cell, insert below\n",
    "- A insert cell above\n",
    "- B insert cell below\n",
    "- C copy cell\n",
    "- V paste cell\n",
    "- D , D delete selected cell\n",
    "- shift + M merge selected cells, or current cell with cell below if only one cell selected\n",
    "- I , I interrupt kernel\n",
    "- 0 , 0 restart kernel (with dialog)\n",
    "- Y change cell to code mode\n",
    "- M change cell to markdown mode (good for documentation)"
   ]
  },
  {
   "cell_type": "markdown",
   "metadata": {},
   "source": [
    "## Navigation in the notebook:\n",
    "- You can perform different actions on notebooks using your `MOUSE` or `KEYBOARD`.\n",
    "\n",
    "### Mouse navigation:\n",
    "- You can use mouse to perform any action on your notebook from Menu bar or Tool bar as per your preference.\n",
    "\n",
    "\n",
    "### Keyboard navigation:\n",
    "- Those who prefer keyboard can use keyboard shortcuts. Here are few examples of keyboard shortcuts.\n",
    "  - Command Mode: `ESC`\n",
    "  - Edit Mode: `ENTER`\n",
    "  \n",
    "  \n",
    "- Run selected cell: `CTRL+ENTER`\n",
    "- Run cell and insert below: `ALT+ENTER`\n",
    "- Run cell and select below: `SHIFT+ENTER`\n",
    "- Insert cell above: `A`\n",
    "- Insert cell below: `B`\n",
    "- Cut selected cells: `X`\n",
    "- Copy selected cells: `C`\n",
    "- For more keyboard shortcuts, you can refer Help -> Keyboard Shortcuts from Menu bar."
   ]
  },
  {
   "cell_type": "markdown",
   "metadata": {},
   "source": [
    "### Command Mode: \n",
    "\n",
    "Let's practice the command mode first.\n",
    "\n",
    "To start, select the next cell and click `shift` + `enter` to run that cell and select the next cell"
   ]
  },
  {
   "cell_type": "code",
   "execution_count": null,
   "metadata": {},
   "outputs": [],
   "source": [
    "print(\"You just ran the cell and selected the next cell\")"
   ]
  },
  {
   "cell_type": "markdown",
   "metadata": {},
   "source": [
    "With the next cell selected, click `ctrl` + `enter` to run the cell and keep the same cell selected"
   ]
  },
  {
   "cell_type": "code",
   "execution_count": null,
   "metadata": {},
   "outputs": [],
   "source": [
    "print(\"You just ran the cell and the focus stayed in that cell\")"
   ]
  },
  {
   "cell_type": "markdown",
   "metadata": {},
   "source": [
    "With the next cell selected, click `option` + `enter` to run the cell and insert a new cell below"
   ]
  },
  {
   "cell_type": "code",
   "execution_count": null,
   "metadata": {},
   "outputs": [],
   "source": [
    "print(\"You just ran the cell and inserted a new cell below it\")"
   ]
  },
  {
   "cell_type": "markdown",
   "metadata": {},
   "source": [
    "---"
   ]
  },
  {
   "cell_type": "markdown",
   "metadata": {},
   "source": [
    "Click `A` to insert a new cell above this one\n",
    "\n",
    "Then, click `B` to insert a new cell below."
   ]
  },
  {
   "cell_type": "markdown",
   "metadata": {},
   "source": [
    "---"
   ]
  },
  {
   "cell_type": "markdown",
   "metadata": {},
   "source": [
    "Copy the next cell with `C` and then paste it with `V`"
   ]
  },
  {
   "cell_type": "code",
   "execution_count": null,
   "metadata": {
    "collapsed": true
   },
   "outputs": [],
   "source": [
    "print(\"copy me\")"
   ]
  },
  {
   "cell_type": "markdown",
   "metadata": {},
   "source": [
    "Delete the cell below by selecting it and typing `D`, `D` (i.e., hit the `D` button twice)"
   ]
  },
  {
   "cell_type": "code",
   "execution_count": null,
   "metadata": {
    "collapsed": true
   },
   "outputs": [],
   "source": [
    "print(\"delete me\")"
   ]
  },
  {
   "cell_type": "markdown",
   "metadata": {},
   "source": [
    "---"
   ]
  },
  {
   "cell_type": "markdown",
   "metadata": {},
   "source": [
    "Merge the following two cells by selecting the first one and then typing `shift` + `M`"
   ]
  },
  {
   "cell_type": "code",
   "execution_count": null,
   "metadata": {
    "collapsed": true
   },
   "outputs": [],
   "source": [
    "print(\"click me and then merge me with the next cell\")"
   ]
  },
  {
   "cell_type": "code",
   "execution_count": null,
   "metadata": {
    "collapsed": true
   },
   "outputs": [],
   "source": [
    "print(\"merge me with the cell above\")"
   ]
  },
  {
   "cell_type": "markdown",
   "metadata": {},
   "source": [
    "---"
   ]
  },
  {
   "cell_type": "markdown",
   "metadata": {},
   "source": [
    "Experiment with changing the following cells to `code` and `markdown` modes"
   ]
  },
  {
   "cell_type": "code",
   "execution_count": null,
   "metadata": {
    "collapsed": true
   },
   "outputs": [],
   "source": [
    "```\n",
    "print(\"I should be in Markdown mode. Type `M` to change me to markdown. Then type `shift` + `enter` to see the proper markkup\")\n",
    "```"
   ]
  },
  {
   "cell_type": "markdown",
   "metadata": {},
   "source": [
    "print(\"I should be code. Select me and then type `Y` to change me to `code` mode`\")"
   ]
  },
  {
   "cell_type": "code",
   "execution_count": null,
   "metadata": {},
   "outputs": [],
   "source": []
  },
  {
   "cell_type": "code",
   "execution_count": null,
   "metadata": {},
   "outputs": [],
   "source": []
  },
  {
   "cell_type": "markdown",
   "metadata": {},
   "source": [
    "## Edit Mode:"
   ]
  },
  {
   "cell_type": "markdown",
   "metadata": {},
   "source": [
    "___\n",
    "Select the entire text in the next cell and click `cmd` + `/` to toggle comment lines"
   ]
  },
  {
   "cell_type": "code",
   "execution_count": null,
   "metadata": {},
   "outputs": [],
   "source": [
    "print(\"this\")\n",
    "print(\"is\")\n",
    "print(\"a big\")\n",
    "print(\"block of\")\n",
    "print(\"text to comment\")"
   ]
  },
  {
   "cell_type": "markdown",
   "metadata": {},
   "source": [
    "Use ctrl + shift + - split the following cell between the two functions"
   ]
  },
  {
   "cell_type": "code",
   "execution_count": null,
   "metadata": {},
   "outputs": [],
   "source": [
    "def func1():\n",
    "    print(\"I'm func1. Separate me from func2\")\n",
    "    \n",
    "def func2():\n",
    "    print(\"I'm \") "
   ]
  },
  {
   "cell_type": "markdown",
   "metadata": {},
   "source": [
    "---"
   ]
  },
  {
   "cell_type": "markdown",
   "metadata": {},
   "source": [
    "#### Command Palette\n",
    "\n",
    "`cmd` + `shift` + `p`\n",
    "\n",
    "Want quick access to all the commands in Jupyter Notebooks? Open the command palette with `cmd` + `shift` + `p` and you'll quickly be able to search all the commands!"
   ]
  },
  {
   "cell_type": "markdown",
   "metadata": {},
   "source": [
    "#### View all keyboard shortcuts\n",
    "\n",
    "`H` (in Command mode)\n",
    "\n",
    "Forget what that keyboard shortcut is? Type `H` in Command mode for a list of all available keyboard shortcuts."
   ]
  },
  {
   "cell_type": "markdown",
   "metadata": {},
   "source": [
    "#### Keyboard Shortcuts:\n",
    "\n",
    "\n",
    "![Example of Python code](shortcut.jpeg)"
   ]
  },
  {
   "cell_type": "code",
   "execution_count": null,
   "metadata": {},
   "outputs": [],
   "source": []
  }
 ],
 "metadata": {
  "kernelspec": {
   "display_name": "Python 3",
   "language": "python",
   "name": "python3"
  },
  "language_info": {
   "codemirror_mode": {
    "name": "ipython",
    "version": 3
   },
   "file_extension": ".py",
   "mimetype": "text/x-python",
   "name": "python",
   "nbconvert_exporter": "python",
   "pygments_lexer": "ipython3",
   "version": "3.7.0"
  }
 },
 "nbformat": 4,
 "nbformat_minor": 1
}
